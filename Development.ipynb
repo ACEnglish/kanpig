{
 "cells": [
  {
   "cell_type": "code",
   "execution_count": 1,
   "id": "285b0dfa-0173-4d62-9d9e-357edb2dcab8",
   "metadata": {},
   "outputs": [],
   "source": [
    "from kdp import *"
   ]
  },
  {
   "cell_type": "markdown",
   "id": "4ccc3e16-7a15-4ea2-af4d-a356836540b6",
   "metadata": {},
   "source": [
    "Let's build a graph from a region that's super simple (hom, both matching) first.\n",
    "\n",
    "We'll have the H (haplotypes (or reads) graph) and G (graph variants to be phased/genotyped).\n",
    "\n",
    "Starting at the snk of H - we'll have two options, use it, or don't use it.\n",
    "\n",
    "For the use it, we check every neighboring node for G from snk and record the sizediff and cossim.\n",
    "    if the sizediff and cossim is above thresholds,\n",
    "        We apply Hn to Gn, update our running Hsk and Gsk (size and kmer features of the paths being joined).\n",
    "\n",
    "if we can't use it, well.. because we have in the graph snk->everyNode, we know we've checked Use it and don't use it.\n",
    "So, not using it is just saying, 'well go to the next node'.\n",
    "\n",
    "Okay, we we have two things.\n",
    "    Hi and Gi\n",
    "    And we try to apply each Hi+1 to Gi+1,\n",
    "    If none of them are good enough... we need to try and both Hi+1 and Hi+2 as well as just moving to Hi+2.\n",
    "    That's the problem here.\n",
    "    \n",
    "    \n",
    "```\n",
    "Initialize dp[] with appropriate initial values\n",
    "\n",
    "for each node a in graph A's full path:\n",
    "    for each node b in graph B:\n",
    "        if b's parent has been visited in graph A's path:\n",
    "            dp[b] = max(dp[b], dp[b's parent] + weight of (b's parent to b))\n",
    "\n",
    "Find the node b_last with the maximum value in dp[]\n",
    "Backtrack from b_last to find the actual path in graph B\n",
    "```\n",
    "\n",
    " "
   ]
  },
  {
   "cell_type": "code",
   "execution_count": null,
   "id": "c746e833-9cd6-4d09-a979-c9feb9435194",
   "metadata": {},
   "outputs": [],
   "source": []
  },
  {
   "cell_type": "code",
   "execution_count": null,
   "id": "7b7844f3-74a0-4f82-98d2-26e2a990badb",
   "metadata": {},
   "outputs": [],
   "source": [
    "import numpy as np\n",
    "m_dp = np.zeros(len(H.nodes), len(G.nodes))\n",
    "\n",
    "for h_i, h_n in enumerate(H.nodes):\n",
    "    for g_i, g_n in enumerate(G.nodex):\n",
    "        #m_dp[h_i][g_i] = max(dp[b], dp[b's parent] + weight of (b's parent to b))\n",
    "\n",
    "        "
   ]
  }
 ],
 "metadata": {
  "kernelspec": {
   "display_name": "Python 3 (ipykernel)",
   "language": "python",
   "name": "python3"
  },
  "language_info": {
   "codemirror_mode": {
    "name": "ipython",
    "version": 3
   },
   "file_extension": ".py",
   "mimetype": "text/x-python",
   "name": "python",
   "nbconvert_exporter": "python",
   "pygments_lexer": "ipython3",
   "version": "3.9.6"
  }
 },
 "nbformat": 4,
 "nbformat_minor": 5
}
