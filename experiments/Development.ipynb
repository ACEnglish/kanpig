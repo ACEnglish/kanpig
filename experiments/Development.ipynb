{
 "cells": [
  {
   "cell_type": "code",
   "execution_count": null,
   "id": "e63d221c-abfa-4d5d-b5df-94d8b33398fb",
   "metadata": {},
   "outputs": [],
   "source": [
    "import pandas as pd\n",
    "from scipy.stats import pearsonr\n",
    "data = pd.read_csv(\"table.how_similar.nok.txt\", sep='\\t')"
   ]
  },
  {
   "cell_type": "code",
   "execution_count": null,
   "id": "5a3008ef-fee9-45b7-8e86-aad8cd022e13",
   "metadata": {},
   "outputs": [],
   "source": [
    "data['bin_sz'] = pd.cut(data['szsim'], [0, 0.80, 0.85, 0.90, 0.95, 1.01], labels=[\"<0.8\", \"0.85\", \"0.90\", \"0.95\", \"1\"])\n",
    "data['bin_sim'] = pd.cut(data['unroll'], [0, 0.80, 0.85, 0.90, 0.95, 1.01], labels=[\"<0.8\", \"0.85\", \"0.90\", \"0.95\", \"1\"])"
   ]
  },
  {
   "cell_type": "code",
   "execution_count": null,
   "id": "70f8aaef-09a9-4aa2-b6a8-3e2e0da5fa4d",
   "metadata": {},
   "outputs": [],
   "source": [
    "data['bin_len'] = pd.cut(data['sz1'], [0, 50, 100, 500, 1000, 900000], labels=[\"0\", \"50\", \"100\", \"1000\", \"big\"])"
   ]
  },
  {
   "cell_type": "code",
   "execution_count": null,
   "id": "46f87f7c-833e-484d-8815-811f50ccb94f",
   "metadata": {},
   "outputs": [],
   "source": [
    "len(data)"
   ]
  },
  {
   "cell_type": "code",
   "execution_count": null,
   "id": "dc315ca1-8e34-4754-aec2-21de1614cf31",
   "metadata": {},
   "outputs": [],
   "source": [
    "print(pearsonr(data['seqsim'], data['pj']))"
   ]
  },
  {
   "cell_type": "code",
   "execution_count": null,
   "id": "3a1650ae-4f28-4f0b-b433-8da399f35c2b",
   "metadata": {},
   "outputs": [],
   "source": [
    "import seaborn as sb\n",
    "p = sb.scatterplot(data=data, x='seqsim', y='pj', hue='bin_len')\n",
    "p.set(title=\"Kmer estimate of sequence similarity\", xlabel=\"Sequence Similarity\", ylabel=\"Kmer Count Similarity\")"
   ]
  },
  {
   "cell_type": "code",
   "execution_count": null,
   "id": "768670af-cc99-4264-b966-6874bee29473",
   "metadata": {},
   "outputs": [],
   "source": [
    "print(pearsonr(data['unroll'], data['pj']))"
   ]
  },
  {
   "cell_type": "code",
   "execution_count": null,
   "id": "b0373a3f-55ce-47ec-9867-07bfff9c99e0",
   "metadata": {},
   "outputs": [],
   "source": [
    "import seaborn as sb\n",
    "p = sb.scatterplot(data=data, x='unroll', y='pj', hue='bin_len')\n",
    "p.set(title=\"Kmer estimate of unroll sequence similarity\", xlabel=\"Unroll Sequence Similarity\", ylabel=\"Kmer Count Similarity\")"
   ]
  }
 ],
 "metadata": {
  "kernelspec": {
   "display_name": "Python 3 (ipykernel)",
   "language": "python",
   "name": "python3"
  },
  "language_info": {
   "codemirror_mode": {
    "name": "ipython",
    "version": 3
   },
   "file_extension": ".py",
   "mimetype": "text/x-python",
   "name": "python",
   "nbconvert_exporter": "python",
   "pygments_lexer": "ipython3",
   "version": "3.9.6"
  }
 },
 "nbformat": 4,
 "nbformat_minor": 5
}
